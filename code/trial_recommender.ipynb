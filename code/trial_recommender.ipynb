{
 "cells": [
  {
   "cell_type": "code",
   "execution_count": 334,
   "metadata": {},
   "outputs": [],
   "source": [
    "import numpy as np\n",
    "import pandas as pd\n",
    "from sklearn.metrics.pairwise import cosine_similarity\n",
    "from transformers import AutoTokenizer # Tokenisation\n",
    "from transformers import AutoModelForSequenceClassification # Classification\n",
    "from transformers import TrainingArguments \n",
    "from transformers import Trainer\n",
    "from sklearn.preprocessing import LabelEncoder"
   ]
  },
  {
   "cell_type": "code",
   "execution_count": 250,
   "metadata": {},
   "outputs": [
    {
     "data": {
      "text/plain": [
       "Index(['Condition', 'ID', 'Age', 'Sex', 'rating', 'location'], dtype='object')"
      ]
     },
     "execution_count": 250,
     "metadata": {},
     "output_type": "execute_result"
    }
   ],
   "source": [
    "clinical_trial = pd.read_csv('clinical_trial.csv')\n",
    "user_ratings = pd.read_csv('user_ratings.csv')\n",
    "user_ratings.columns\n"
   ]
  },
  {
   "cell_type": "code",
   "execution_count": 251,
   "metadata": {},
   "outputs": [
    {
     "data": {
      "text/plain": [
       "(1028, 11)"
      ]
     },
     "execution_count": 251,
     "metadata": {},
     "output_type": "execute_result"
    }
   ],
   "source": [
    "clinical_trial.shape"
   ]
  },
  {
   "cell_type": "code",
   "execution_count": 252,
   "metadata": {},
   "outputs": [],
   "source": [
    "ratings_with_clinical = user_ratings.merge(clinical_trial, on='Condition')"
   ]
  },
  {
   "cell_type": "code",
   "execution_count": 311,
   "metadata": {},
   "outputs": [
    {
     "data": {
      "text/plain": [
       "Index(['Condition', 'ID', 'Age', 'Sex', 'rating', 'location', 'Rank', 'NCTId',\n",
       "       'BriefTitle', 'EligibilityCriteria', 'DetailedDescription', 'Keyword',\n",
       "       'OverallStatus', 'LocationCity', 'StartDate', 'SeeAlsoLinkURL'],\n",
       "      dtype='object')"
      ]
     },
     "execution_count": 311,
     "metadata": {},
     "output_type": "execute_result"
    }
   ],
   "source": [
    "ratings_with_clinical.columns"
   ]
  },
  {
   "cell_type": "code",
   "execution_count": 257,
   "metadata": {},
   "outputs": [
    {
     "data": {
      "text/plain": [
       "(1722622, 16)"
      ]
     },
     "execution_count": 257,
     "metadata": {},
     "output_type": "execute_result"
    }
   ],
   "source": [
    "ratings_with_clinical.shape"
   ]
  },
  {
   "cell_type": "code",
   "execution_count": 258,
   "metadata": {},
   "outputs": [],
   "source": [
    "pt = ratings_with_clinical.pivot_table(index='BriefTitle',columns='ID',values='rating')"
   ]
  },
  {
   "cell_type": "code",
   "execution_count": 259,
   "metadata": {},
   "outputs": [],
   "source": [
    "pt.fillna(0,inplace=True)"
   ]
  },
  {
   "cell_type": "code",
   "execution_count": 260,
   "metadata": {},
   "outputs": [
    {
     "data": {
      "text/html": [
       "<div>\n",
       "<style scoped>\n",
       "    .dataframe tbody tr th:only-of-type {\n",
       "        vertical-align: middle;\n",
       "    }\n",
       "\n",
       "    .dataframe tbody tr th {\n",
       "        vertical-align: top;\n",
       "    }\n",
       "\n",
       "    .dataframe thead th {\n",
       "        text-align: right;\n",
       "    }\n",
       "</style>\n",
       "<table border=\"1\" class=\"dataframe\">\n",
       "  <thead>\n",
       "    <tr style=\"text-align: right;\">\n",
       "      <th>ID</th>\n",
       "      <th>1</th>\n",
       "      <th>2</th>\n",
       "      <th>3</th>\n",
       "      <th>4</th>\n",
       "      <th>5</th>\n",
       "      <th>6</th>\n",
       "      <th>7</th>\n",
       "      <th>8</th>\n",
       "      <th>9</th>\n",
       "      <th>10</th>\n",
       "      <th>...</th>\n",
       "      <th>4991</th>\n",
       "      <th>4992</th>\n",
       "      <th>4993</th>\n",
       "      <th>4994</th>\n",
       "      <th>4995</th>\n",
       "      <th>4996</th>\n",
       "      <th>4997</th>\n",
       "      <th>4998</th>\n",
       "      <th>4999</th>\n",
       "      <th>5000</th>\n",
       "    </tr>\n",
       "    <tr>\n",
       "      <th>BriefTitle</th>\n",
       "      <th></th>\n",
       "      <th></th>\n",
       "      <th></th>\n",
       "      <th></th>\n",
       "      <th></th>\n",
       "      <th></th>\n",
       "      <th></th>\n",
       "      <th></th>\n",
       "      <th></th>\n",
       "      <th></th>\n",
       "      <th></th>\n",
       "      <th></th>\n",
       "      <th></th>\n",
       "      <th></th>\n",
       "      <th></th>\n",
       "      <th></th>\n",
       "      <th></th>\n",
       "      <th></th>\n",
       "      <th></th>\n",
       "      <th></th>\n",
       "      <th></th>\n",
       "    </tr>\n",
       "  </thead>\n",
       "  <tbody>\n",
       "    <tr>\n",
       "      <th>\"Manual Dexterity and Oculomotor Control in Schizophrenia\"</th>\n",
       "      <td>0.0</td>\n",
       "      <td>0.0</td>\n",
       "      <td>3.0</td>\n",
       "      <td>0.0</td>\n",
       "      <td>0.0</td>\n",
       "      <td>4.0</td>\n",
       "      <td>0.0</td>\n",
       "      <td>1.0</td>\n",
       "      <td>0.0</td>\n",
       "      <td>0.0</td>\n",
       "      <td>...</td>\n",
       "      <td>0.0</td>\n",
       "      <td>1.0</td>\n",
       "      <td>1.0</td>\n",
       "      <td>0.0</td>\n",
       "      <td>0.0</td>\n",
       "      <td>0.0</td>\n",
       "      <td>0.0</td>\n",
       "      <td>0.0</td>\n",
       "      <td>0.0</td>\n",
       "      <td>0.0</td>\n",
       "    </tr>\n",
       "    <tr>\n",
       "      <th>15 Month Study for Adults Who Have Been Diagnosed With Schizophrenia and Incarcerated</th>\n",
       "      <td>0.0</td>\n",
       "      <td>0.0</td>\n",
       "      <td>3.0</td>\n",
       "      <td>0.0</td>\n",
       "      <td>0.0</td>\n",
       "      <td>4.0</td>\n",
       "      <td>0.0</td>\n",
       "      <td>1.0</td>\n",
       "      <td>0.0</td>\n",
       "      <td>0.0</td>\n",
       "      <td>...</td>\n",
       "      <td>0.0</td>\n",
       "      <td>1.0</td>\n",
       "      <td>1.0</td>\n",
       "      <td>0.0</td>\n",
       "      <td>0.0</td>\n",
       "      <td>0.0</td>\n",
       "      <td>0.0</td>\n",
       "      <td>0.0</td>\n",
       "      <td>0.0</td>\n",
       "      <td>0.0</td>\n",
       "    </tr>\n",
       "    <tr>\n",
       "      <th>20101299: Study to Evaluate the Effect of AMG 747 on Schizophrenia Negative Symptoms</th>\n",
       "      <td>0.0</td>\n",
       "      <td>0.0</td>\n",
       "      <td>3.0</td>\n",
       "      <td>0.0</td>\n",
       "      <td>0.0</td>\n",
       "      <td>4.0</td>\n",
       "      <td>0.0</td>\n",
       "      <td>1.0</td>\n",
       "      <td>0.0</td>\n",
       "      <td>0.0</td>\n",
       "      <td>...</td>\n",
       "      <td>0.0</td>\n",
       "      <td>1.0</td>\n",
       "      <td>1.0</td>\n",
       "      <td>0.0</td>\n",
       "      <td>0.0</td>\n",
       "      <td>0.0</td>\n",
       "      <td>0.0</td>\n",
       "      <td>0.0</td>\n",
       "      <td>0.0</td>\n",
       "      <td>0.0</td>\n",
       "    </tr>\n",
       "    <tr>\n",
       "      <th>20110165: Study to Evaluate the Effect of AMG 747 on Schizophrenia Negative Symptoms (Study 165)</th>\n",
       "      <td>0.0</td>\n",
       "      <td>0.0</td>\n",
       "      <td>3.0</td>\n",
       "      <td>0.0</td>\n",
       "      <td>0.0</td>\n",
       "      <td>4.0</td>\n",
       "      <td>0.0</td>\n",
       "      <td>1.0</td>\n",
       "      <td>0.0</td>\n",
       "      <td>0.0</td>\n",
       "      <td>...</td>\n",
       "      <td>0.0</td>\n",
       "      <td>1.0</td>\n",
       "      <td>1.0</td>\n",
       "      <td>0.0</td>\n",
       "      <td>0.0</td>\n",
       "      <td>0.0</td>\n",
       "      <td>0.0</td>\n",
       "      <td>0.0</td>\n",
       "      <td>0.0</td>\n",
       "      <td>0.0</td>\n",
       "    </tr>\n",
       "    <tr>\n",
       "      <th>24-Week Open Label Extension to a Randomized, 6-Week Double Blind, Placebo Controlled Study, to Evaluate the Safety and Tolerability of Flexible Doses of Extended Release OROS® Paliperidone in the Treatment of Geriatric Subjects With Schizophrenia</th>\n",
       "      <td>0.0</td>\n",
       "      <td>0.0</td>\n",
       "      <td>3.0</td>\n",
       "      <td>0.0</td>\n",
       "      <td>0.0</td>\n",
       "      <td>4.0</td>\n",
       "      <td>0.0</td>\n",
       "      <td>1.0</td>\n",
       "      <td>0.0</td>\n",
       "      <td>0.0</td>\n",
       "      <td>...</td>\n",
       "      <td>0.0</td>\n",
       "      <td>1.0</td>\n",
       "      <td>1.0</td>\n",
       "      <td>0.0</td>\n",
       "      <td>0.0</td>\n",
       "      <td>0.0</td>\n",
       "      <td>0.0</td>\n",
       "      <td>0.0</td>\n",
       "      <td>0.0</td>\n",
       "      <td>0.0</td>\n",
       "    </tr>\n",
       "    <tr>\n",
       "      <th>...</th>\n",
       "      <td>...</td>\n",
       "      <td>...</td>\n",
       "      <td>...</td>\n",
       "      <td>...</td>\n",
       "      <td>...</td>\n",
       "      <td>...</td>\n",
       "      <td>...</td>\n",
       "      <td>...</td>\n",
       "      <td>...</td>\n",
       "      <td>...</td>\n",
       "      <td>...</td>\n",
       "      <td>...</td>\n",
       "      <td>...</td>\n",
       "      <td>...</td>\n",
       "      <td>...</td>\n",
       "      <td>...</td>\n",
       "      <td>...</td>\n",
       "      <td>...</td>\n",
       "      <td>...</td>\n",
       "      <td>...</td>\n",
       "      <td>...</td>\n",
       "    </tr>\n",
       "    <tr>\n",
       "      <th>rTMS Treatment for Positive and Negative Symptoms of Schizophrenia</th>\n",
       "      <td>0.0</td>\n",
       "      <td>0.0</td>\n",
       "      <td>3.0</td>\n",
       "      <td>0.0</td>\n",
       "      <td>0.0</td>\n",
       "      <td>4.0</td>\n",
       "      <td>0.0</td>\n",
       "      <td>1.0</td>\n",
       "      <td>0.0</td>\n",
       "      <td>0.0</td>\n",
       "      <td>...</td>\n",
       "      <td>0.0</td>\n",
       "      <td>1.0</td>\n",
       "      <td>1.0</td>\n",
       "      <td>0.0</td>\n",
       "      <td>0.0</td>\n",
       "      <td>0.0</td>\n",
       "      <td>0.0</td>\n",
       "      <td>0.0</td>\n",
       "      <td>0.0</td>\n",
       "      <td>0.0</td>\n",
       "    </tr>\n",
       "    <tr>\n",
       "      <th>rTMS for Adults With Autistic Spectrum Disorder</th>\n",
       "      <td>1.0</td>\n",
       "      <td>0.0</td>\n",
       "      <td>0.0</td>\n",
       "      <td>1.0</td>\n",
       "      <td>0.0</td>\n",
       "      <td>0.0</td>\n",
       "      <td>0.0</td>\n",
       "      <td>0.0</td>\n",
       "      <td>0.0</td>\n",
       "      <td>0.0</td>\n",
       "      <td>...</td>\n",
       "      <td>0.0</td>\n",
       "      <td>0.0</td>\n",
       "      <td>0.0</td>\n",
       "      <td>1.0</td>\n",
       "      <td>0.0</td>\n",
       "      <td>3.0</td>\n",
       "      <td>0.0</td>\n",
       "      <td>0.0</td>\n",
       "      <td>5.0</td>\n",
       "      <td>3.0</td>\n",
       "    </tr>\n",
       "    <tr>\n",
       "      <th>rTMS on Appetite and Cognitive Function in Schizophrenia</th>\n",
       "      <td>0.0</td>\n",
       "      <td>0.0</td>\n",
       "      <td>3.0</td>\n",
       "      <td>0.0</td>\n",
       "      <td>0.0</td>\n",
       "      <td>4.0</td>\n",
       "      <td>0.0</td>\n",
       "      <td>1.0</td>\n",
       "      <td>0.0</td>\n",
       "      <td>0.0</td>\n",
       "      <td>...</td>\n",
       "      <td>0.0</td>\n",
       "      <td>1.0</td>\n",
       "      <td>1.0</td>\n",
       "      <td>0.0</td>\n",
       "      <td>0.0</td>\n",
       "      <td>0.0</td>\n",
       "      <td>0.0</td>\n",
       "      <td>0.0</td>\n",
       "      <td>0.0</td>\n",
       "      <td>0.0</td>\n",
       "    </tr>\n",
       "    <tr>\n",
       "      <th>the Activating Consciousness Technique (Hypnosis) in General Practice</th>\n",
       "      <td>0.0</td>\n",
       "      <td>2.0</td>\n",
       "      <td>0.0</td>\n",
       "      <td>0.0</td>\n",
       "      <td>2.0</td>\n",
       "      <td>0.0</td>\n",
       "      <td>3.0</td>\n",
       "      <td>0.0</td>\n",
       "      <td>4.0</td>\n",
       "      <td>1.0</td>\n",
       "      <td>...</td>\n",
       "      <td>1.0</td>\n",
       "      <td>0.0</td>\n",
       "      <td>0.0</td>\n",
       "      <td>0.0</td>\n",
       "      <td>2.0</td>\n",
       "      <td>0.0</td>\n",
       "      <td>4.0</td>\n",
       "      <td>3.0</td>\n",
       "      <td>0.0</td>\n",
       "      <td>0.0</td>\n",
       "    </tr>\n",
       "    <tr>\n",
       "      <th>the Efficacy of Oral Motor Therapy in Children With Autism</th>\n",
       "      <td>1.0</td>\n",
       "      <td>0.0</td>\n",
       "      <td>0.0</td>\n",
       "      <td>1.0</td>\n",
       "      <td>0.0</td>\n",
       "      <td>0.0</td>\n",
       "      <td>0.0</td>\n",
       "      <td>0.0</td>\n",
       "      <td>0.0</td>\n",
       "      <td>0.0</td>\n",
       "      <td>...</td>\n",
       "      <td>0.0</td>\n",
       "      <td>0.0</td>\n",
       "      <td>0.0</td>\n",
       "      <td>1.0</td>\n",
       "      <td>0.0</td>\n",
       "      <td>3.0</td>\n",
       "      <td>0.0</td>\n",
       "      <td>0.0</td>\n",
       "      <td>5.0</td>\n",
       "      <td>3.0</td>\n",
       "    </tr>\n",
       "  </tbody>\n",
       "</table>\n",
       "<p>1020 rows × 5000 columns</p>\n",
       "</div>"
      ],
      "text/plain": [
       "ID                                                  1     2     3     4     \\\n",
       "BriefTitle                                                                   \n",
       "\"Manual Dexterity and Oculomotor Control in Sch...   0.0   0.0   3.0   0.0   \n",
       "15 Month Study for Adults Who Have Been Diagnos...   0.0   0.0   3.0   0.0   \n",
       "20101299: Study to Evaluate the Effect of AMG 7...   0.0   0.0   3.0   0.0   \n",
       "20110165: Study to Evaluate the Effect of AMG 7...   0.0   0.0   3.0   0.0   \n",
       "24-Week Open Label Extension to a Randomized, 6...   0.0   0.0   3.0   0.0   \n",
       "...                                                  ...   ...   ...   ...   \n",
       "rTMS Treatment for Positive and Negative Sympto...   0.0   0.0   3.0   0.0   \n",
       "rTMS for Adults With Autistic Spectrum Disorder      1.0   0.0   0.0   1.0   \n",
       "rTMS on Appetite and Cognitive Function in Schi...   0.0   0.0   3.0   0.0   \n",
       "the Activating Consciousness Technique (Hypnosi...   0.0   2.0   0.0   0.0   \n",
       "the Efficacy of Oral Motor Therapy in Children ...   1.0   0.0   0.0   1.0   \n",
       "\n",
       "ID                                                  5     6     7     8     \\\n",
       "BriefTitle                                                                   \n",
       "\"Manual Dexterity and Oculomotor Control in Sch...   0.0   4.0   0.0   1.0   \n",
       "15 Month Study for Adults Who Have Been Diagnos...   0.0   4.0   0.0   1.0   \n",
       "20101299: Study to Evaluate the Effect of AMG 7...   0.0   4.0   0.0   1.0   \n",
       "20110165: Study to Evaluate the Effect of AMG 7...   0.0   4.0   0.0   1.0   \n",
       "24-Week Open Label Extension to a Randomized, 6...   0.0   4.0   0.0   1.0   \n",
       "...                                                  ...   ...   ...   ...   \n",
       "rTMS Treatment for Positive and Negative Sympto...   0.0   4.0   0.0   1.0   \n",
       "rTMS for Adults With Autistic Spectrum Disorder      0.0   0.0   0.0   0.0   \n",
       "rTMS on Appetite and Cognitive Function in Schi...   0.0   4.0   0.0   1.0   \n",
       "the Activating Consciousness Technique (Hypnosi...   2.0   0.0   3.0   0.0   \n",
       "the Efficacy of Oral Motor Therapy in Children ...   0.0   0.0   0.0   0.0   \n",
       "\n",
       "ID                                                  9     10    ...  4991  \\\n",
       "BriefTitle                                                      ...         \n",
       "\"Manual Dexterity and Oculomotor Control in Sch...   0.0   0.0  ...   0.0   \n",
       "15 Month Study for Adults Who Have Been Diagnos...   0.0   0.0  ...   0.0   \n",
       "20101299: Study to Evaluate the Effect of AMG 7...   0.0   0.0  ...   0.0   \n",
       "20110165: Study to Evaluate the Effect of AMG 7...   0.0   0.0  ...   0.0   \n",
       "24-Week Open Label Extension to a Randomized, 6...   0.0   0.0  ...   0.0   \n",
       "...                                                  ...   ...  ...   ...   \n",
       "rTMS Treatment for Positive and Negative Sympto...   0.0   0.0  ...   0.0   \n",
       "rTMS for Adults With Autistic Spectrum Disorder      0.0   0.0  ...   0.0   \n",
       "rTMS on Appetite and Cognitive Function in Schi...   0.0   0.0  ...   0.0   \n",
       "the Activating Consciousness Technique (Hypnosi...   4.0   1.0  ...   1.0   \n",
       "the Efficacy of Oral Motor Therapy in Children ...   0.0   0.0  ...   0.0   \n",
       "\n",
       "ID                                                  4992  4993  4994  4995  \\\n",
       "BriefTitle                                                                   \n",
       "\"Manual Dexterity and Oculomotor Control in Sch...   1.0   1.0   0.0   0.0   \n",
       "15 Month Study for Adults Who Have Been Diagnos...   1.0   1.0   0.0   0.0   \n",
       "20101299: Study to Evaluate the Effect of AMG 7...   1.0   1.0   0.0   0.0   \n",
       "20110165: Study to Evaluate the Effect of AMG 7...   1.0   1.0   0.0   0.0   \n",
       "24-Week Open Label Extension to a Randomized, 6...   1.0   1.0   0.0   0.0   \n",
       "...                                                  ...   ...   ...   ...   \n",
       "rTMS Treatment for Positive and Negative Sympto...   1.0   1.0   0.0   0.0   \n",
       "rTMS for Adults With Autistic Spectrum Disorder      0.0   0.0   1.0   0.0   \n",
       "rTMS on Appetite and Cognitive Function in Schi...   1.0   1.0   0.0   0.0   \n",
       "the Activating Consciousness Technique (Hypnosi...   0.0   0.0   0.0   2.0   \n",
       "the Efficacy of Oral Motor Therapy in Children ...   0.0   0.0   1.0   0.0   \n",
       "\n",
       "ID                                                  4996  4997  4998  4999  \\\n",
       "BriefTitle                                                                   \n",
       "\"Manual Dexterity and Oculomotor Control in Sch...   0.0   0.0   0.0   0.0   \n",
       "15 Month Study for Adults Who Have Been Diagnos...   0.0   0.0   0.0   0.0   \n",
       "20101299: Study to Evaluate the Effect of AMG 7...   0.0   0.0   0.0   0.0   \n",
       "20110165: Study to Evaluate the Effect of AMG 7...   0.0   0.0   0.0   0.0   \n",
       "24-Week Open Label Extension to a Randomized, 6...   0.0   0.0   0.0   0.0   \n",
       "...                                                  ...   ...   ...   ...   \n",
       "rTMS Treatment for Positive and Negative Sympto...   0.0   0.0   0.0   0.0   \n",
       "rTMS for Adults With Autistic Spectrum Disorder      3.0   0.0   0.0   5.0   \n",
       "rTMS on Appetite and Cognitive Function in Schi...   0.0   0.0   0.0   0.0   \n",
       "the Activating Consciousness Technique (Hypnosi...   0.0   4.0   3.0   0.0   \n",
       "the Efficacy of Oral Motor Therapy in Children ...   3.0   0.0   0.0   5.0   \n",
       "\n",
       "ID                                                  5000  \n",
       "BriefTitle                                                \n",
       "\"Manual Dexterity and Oculomotor Control in Sch...   0.0  \n",
       "15 Month Study for Adults Who Have Been Diagnos...   0.0  \n",
       "20101299: Study to Evaluate the Effect of AMG 7...   0.0  \n",
       "20110165: Study to Evaluate the Effect of AMG 7...   0.0  \n",
       "24-Week Open Label Extension to a Randomized, 6...   0.0  \n",
       "...                                                  ...  \n",
       "rTMS Treatment for Positive and Negative Sympto...   0.0  \n",
       "rTMS for Adults With Autistic Spectrum Disorder      3.0  \n",
       "rTMS on Appetite and Cognitive Function in Schi...   0.0  \n",
       "the Activating Consciousness Technique (Hypnosi...   0.0  \n",
       "the Efficacy of Oral Motor Therapy in Children ...   3.0  \n",
       "\n",
       "[1020 rows x 5000 columns]"
      ]
     },
     "execution_count": 260,
     "metadata": {},
     "output_type": "execute_result"
    }
   ],
   "source": [
    "pt"
   ]
  },
  {
   "cell_type": "code",
   "execution_count": 335,
   "metadata": {},
   "outputs": [
    {
     "name": "stdout",
     "output_type": "stream",
     "text": [
      "Index(['Rank', 'NCTId', 'BriefTitle', 'Condition', 'EligibilityCriteria',\n",
      "       'DetailedDescription', 'Keyword', 'OverallStatus', 'LocationCity',\n",
      "       'StartDate', 'SeeAlsoLinkURL', 'numeric_condition', 'concatenated'],\n",
      "      dtype='object')\n"
     ]
    }
   ],
   "source": [
    "#Calculating similarity scores for pt  \n",
    "similarity_scores = cosine_similarity(pt)\n",
    "\n",
    "#Label encoding is done to make a .csv that contains condition in numberic that can be used for classification and to train the transformer.\n",
    "\n",
    "labels = list(clinical_trial['Condition'])\n",
    "\n",
    "# Create an instance of LabelEncoder\n",
    "label_encoder = LabelEncoder()\n",
    "\n",
    "# Fit the label encoder on the labels and transform them to numeric values\n",
    "clinical_trial['numeric_condition'] = label_encoder.fit_transform(labels)\n",
    "\n",
    "# Print the numeric labels\n",
    "print(clinical_trial.columns)\n",
    "\n",
    "clinical_trial['concatenated'] = clinical_trial[['BriefTitle', 'DetailedDescription', 'Keyword']].apply(lambda x: ', '.join(x.astype(str)), axis=1)\n"
   ]
  },
  {
   "cell_type": "code",
   "execution_count": 330,
   "metadata": {},
   "outputs": [],
   "source": [
    "\n",
    "\n",
    "\n",
    "def recommend(input):\n",
    "\n",
    "    # Defining the model path and load tokenizer and Bert-based model which is trained in code_bert.ipynb\n",
    "    model_path = \"/Users/ankit/Downloads/Ideathon/trial_Recommender\"\n",
    "    tokenizer = AutoTokenizer.from_pretrained(\"distilbert-base-uncased\", use_fast=True)\n",
    "    model = AutoModelForSequenceClassification.from_pretrained(model_path)\n",
    "\n",
    "    # Tokenizing the input text\n",
    "    input_text = input\n",
    "    tokenized_text = tokenizer(input_text,\n",
    "                           truncation=True,\n",
    "                           is_split_into_words=False,\n",
    "                           return_tensors='pt')\n",
    "\n",
    "    # Passing the tokenized input to the fine-tuned Bert-based model and get predicted label\n",
    "    #Note Predicted value is 0 and 1\n",
    "\n",
    "    outputs = model(**tokenized_text)\n",
    "    predicted_label = outputs.logits.argmax(-1)\n",
    "    predicted_label_value = predicted_label.item()\n",
    "\n",
    "    # Maping numeric predicted label to condition name\n",
    "\n",
    "    if predicted_label_value == 0:\n",
    "        condition_name = \"Anxiety\"\n",
    "    elif predicted_label_value == 1:\n",
    "        condition_name = \"Autism\"\n",
    "    elif predicted_label_value == 2:\n",
    "        condition_name = \"Schizophrenia\"\n",
    "    else:\n",
    "        condition_name = \"Unknown\"\n",
    "\n",
    "    \n",
    "\n",
    "\n",
    "    # Filter trials based on condition name and get location or index of trial name of the matched condition_name.\n",
    "\n",
    "    name_filter = ratings_with_clinical['Condition'] == condition_name\n",
    "    trial_value = ratings_with_clinical.loc[name_filter, 'BriefTitle'].values[0]\n",
    "    \n",
    "    # index fetch\n",
    "    index = np.where(pt.index==trial_value)[0][0]\n",
    "    similar_items = sorted(list(enumerate(similarity_scores[index])),key=lambda x:x[1],reverse=True)[1:6]\n",
    "    \n",
    "    data = []\n",
    "    # Iterate over similar items and gather other information matching the BriefTitle.\n",
    "    for i in similar_items:\n",
    "        item = []\n",
    "        temp_df = ratings_with_clinical[ratings_with_clinical['BriefTitle'] == pt.index[i[0]]]\n",
    "        item.extend(list(temp_df.drop_duplicates('BriefTitle')['BriefTitle'].values))\n",
    "        item.extend(list(temp_df.drop_duplicates('BriefTitle')['DetailedDescription'].values))\n",
    "        item.extend(list(temp_df.drop_duplicates('BriefTitle')['Keyword'].values))\n",
    "        item.extend(list(temp_df.drop_duplicates('BriefTitle')['StartDate'].values))\n",
    "        \n",
    "        data.append(item)\n",
    "    \n",
    "    return data"
   ]
  },
  {
   "cell_type": "code",
   "execution_count": 332,
   "metadata": {},
   "outputs": [
    {
     "data": {
      "text/plain": [
       "[['A North-American Eight-week Study to Evaluate the Efficacy and Safety of Saredutant in Patients With Generalized Anxiety Disorder',\n",
       "  '0',\n",
       "  'Anxiety|clinical trials',\n",
       "  'October 2006'],\n",
       " ['A Pilot RCT on the Efficacy of TranS-C Intervention on Anxiety Symptoms',\n",
       "  '0',\n",
       "  'Anxiety|Insomnia|Transdiagnostic Sleep and Circadian Treatment|randomised controlled trial|TranS-C|Transdiagnostic Sleep intervention',\n",
       "  'September 1, 2022'],\n",
       " ['A Pilot Study to Determine a Candidate Protocol for Transcranial Electrical Stimulation in the Treatment of Anxiety',\n",
       "  'The investigators examine the efficacy of two different transcranial direct current stimulation (tDCS) stimulation protocols in the treatment of anxiety in an open-label pilot study in patients with chronic pain. The investigators also seek to detect autonomic nervous system changes induced by the tDCS, and develop new methods for the measurement of autonomic nervous system functions.',\n",
       "  '0',\n",
       "  'December 2014'],\n",
       " ['A Pragmatic Trial of Brief CBT for Anxiety in VA Primary Care',\n",
       "  'This 4-year, multisite trial (Houston, New Orleans and San Antonio) will use a pragmatic randomized trial design to examine the effectiveness and implementation potential of a brief cognitive behavioral therapy(bCBT) intervention for anxiety delivered either in-person or via VA Video Connect-Home (VVC-H), according to patient preference. Brief CBT will be delivered by existing Primary Care Mental Health Integration (PCMHI) providers at three large VAMCs (Houston, New Orleans, and San Antonio). Aim 1 will examine the clinical effectiveness of the bCBT intervention vs. Enhanced Usual Care (EUC) for anxiety at 4-, 8-, and 12-month follow-ups. Aim 2 will determine factors associated with bCBT response and explore Veteran demographic and clinical factors associated with VVC-H engagement. An exploratory aim will use mixed, qualitative and quantitative methods to better understand implementation successes and challenges related to delivery and impact of bCBT anxiety and VVC-H use in the PCMHI setting. The primary hypothesis is that anxiety outcomes, as measured by the General Anxiety Disorder 7-item scale (GAD-7) will be superior at 4-, 8-, and 12-month follow up for patients who are assigned to receive bCBT vs. EUC.||In addition, participants will be asked to complete the Diversity Supplement measures and qualitative interview to evaluate whether sociocultural factors are associated with the severity and type of anxiety symptoms among Veterans of different race/ethnicity groups.',\n",
       "  'anxiety disorder|panic disorder|phobia, social|worry|stress',\n",
       "  'January 3, 2022'],\n",
       " ['A Randomized Controlled Study of Digitalized Cognitive-behavioral Intervention for Childhood Anxiety',\n",
       "  '0',\n",
       "  '0',\n",
       "  'October 24, 2017']]"
      ]
     },
     "execution_count": 332,
     "metadata": {},
     "output_type": "execute_result"
    }
   ],
   "source": [
    "#Testing the recommend function\n",
    "\n",
    "recommend('I am having Schizophrenia issues')"
   ]
  },
  {
   "cell_type": "code",
   "execution_count": 77,
   "metadata": {},
   "outputs": [],
   "source": [
    "import pickle"
   ]
  },
  {
   "cell_type": "code",
   "execution_count": 336,
   "metadata": {},
   "outputs": [
    {
     "ename": "OSError",
     "evalue": "[Errno 28] No space left on device",
     "output_type": "error",
     "traceback": [
      "\u001b[0;31m---------------------------------------------------------------------------\u001b[0m",
      "\u001b[0;31mOSError\u001b[0m                                   Traceback (most recent call last)",
      "Cell \u001b[0;32mIn[336], line 3\u001b[0m\n\u001b[1;32m      1\u001b[0m \u001b[39m#pickle is used to make a .pkl file that can be used to call these file in the fron-end using flask application\u001b[39;00m\n\u001b[0;32m----> 3\u001b[0m pickle\u001b[39m.\u001b[39;49mdump(pt,\u001b[39mopen\u001b[39;49m(\u001b[39m'\u001b[39;49m\u001b[39mpt.pkl\u001b[39;49m\u001b[39m'\u001b[39;49m,\u001b[39m'\u001b[39;49m\u001b[39mwb\u001b[39;49m\u001b[39m'\u001b[39;49m))\n\u001b[1;32m      4\u001b[0m pickle\u001b[39m.\u001b[39mdump(ratings_with_clinical,\u001b[39mopen\u001b[39m(\u001b[39m'\u001b[39m\u001b[39mratings_with_clinical.pkl\u001b[39m\u001b[39m'\u001b[39m,\u001b[39m'\u001b[39m\u001b[39mwb\u001b[39m\u001b[39m'\u001b[39m))\n\u001b[1;32m      5\u001b[0m pickle\u001b[39m.\u001b[39mdump(similarity_scores,\u001b[39mopen\u001b[39m(\u001b[39m'\u001b[39m\u001b[39msimilarity_scores.pkl\u001b[39m\u001b[39m'\u001b[39m,\u001b[39m'\u001b[39m\u001b[39mwb\u001b[39m\u001b[39m'\u001b[39m))\n",
      "\u001b[0;31mOSError\u001b[0m: [Errno 28] No space left on device"
     ]
    }
   ],
   "source": [
    "#pickle is used to make a .pkl file that can be used to call these file in the fron-end using flask application\n",
    "\n",
    "pickle.dump(pt,open('pt.pkl','wb'))\n",
    "pickle.dump(ratings_with_clinical,open('ratings_with_clinical.pkl','wb'))\n",
    "pickle.dump(similarity_scores,open('similarity_scores.pkl','wb'))\n",
    "pickle.dump(clinical_trial,open('clinical_trial.pkl','wb'))"
   ]
  },
  {
   "cell_type": "code",
   "execution_count": 266,
   "metadata": {},
   "outputs": [
    {
     "name": "stdout",
     "output_type": "stream",
     "text": [
      "Index(['Rank', 'NCTId', 'BriefTitle', 'Condition', 'EligibilityCriteria',\n",
      "       'DetailedDescription', 'Keyword', 'OverallStatus', 'LocationCity',\n",
      "       'StartDate', 'SeeAlsoLinkURL', 'numeric_condition'],\n",
      "      dtype='object')\n"
     ]
    }
   ],
   "source": [
    "\n"
   ]
  },
  {
   "cell_type": "code",
   "execution_count": 267,
   "metadata": {},
   "outputs": [],
   "source": []
  },
  {
   "cell_type": "code",
   "execution_count": 268,
   "metadata": {},
   "outputs": [
    {
     "data": {
      "text/plain": [
       "(1028, 13)"
      ]
     },
     "execution_count": 268,
     "metadata": {},
     "output_type": "execute_result"
    }
   ],
   "source": [
    "clinical_trial.shape"
   ]
  },
  {
   "cell_type": "code",
   "execution_count": 269,
   "metadata": {},
   "outputs": [],
   "source": [
    "# Select two columns and save as CSV\n",
    "selected_columns = clinical_trial[['concatenated', 'numeric_condition']]\n",
    "selected_columns.to_csv('selected_columns.csv', index=False)"
   ]
  },
  {
   "cell_type": "code",
   "execution_count": 271,
   "metadata": {},
   "outputs": [
    {
     "data": {
      "text/plain": [
       "Index(['concatenated', 'numeric_condition'], dtype='object')"
      ]
     },
     "execution_count": 271,
     "metadata": {},
     "output_type": "execute_result"
    }
   ],
   "source": [
    "#'selected_columns.csv' this csv file is created for the training of the Bert-based model.\n",
    "selected_columns.columns"
   ]
  }
 ],
 "metadata": {
  "kernelspec": {
   "display_name": "ankit_env",
   "language": "python",
   "name": "python3"
  },
  "language_info": {
   "codemirror_mode": {
    "name": "ipython",
    "version": 3
   },
   "file_extension": ".py",
   "mimetype": "text/x-python",
   "name": "python",
   "nbconvert_exporter": "python",
   "pygments_lexer": "ipython3",
   "version": "3.9.7"
  },
  "orig_nbformat": 4
 },
 "nbformat": 4,
 "nbformat_minor": 2
}
